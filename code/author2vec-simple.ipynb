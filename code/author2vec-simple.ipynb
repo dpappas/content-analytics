{
 "cells": [
  {
   "cell_type": "code",
   "execution_count": 7,
   "metadata": {
    "collapsed": true
   },
   "outputs": [],
   "source": [
    "from __future__ import absolute_import\n",
    "from __future__ import division\n",
    "from __future__ import print_function\n",
    "\n",
    "import collections\n",
    "import math\n",
    "import os\n",
    "import random\n",
    "import zipfile\n",
    "\n",
    "import numpy as np\n",
    "from six.moves import xrange  # pylint: disable=redefined-builtin\n",
    "import tensorflow as tf"
   ]
  },
  {
   "cell_type": "code",
   "execution_count": 8,
   "metadata": {
    "collapsed": true
   },
   "outputs": [],
   "source": [
    "from os import listdir\n",
    "from os.path import join\n",
    "from nltk import word_tokenize\n",
    "import pickle\n",
    "import pandas as pd"
   ]
  },
  {
   "cell_type": "code",
   "execution_count": 9,
   "metadata": {
    "collapsed": true
   },
   "outputs": [],
   "source": [
    "# Step 2: Build the dictionary and replace rare words with UNK token.\n",
    "vocabulary_size = 90000"
   ]
  },
  {
   "cell_type": "code",
   "execution_count": 10,
   "metadata": {
    "collapsed": true
   },
   "outputs": [],
   "source": [
    "# Fetch stopwords\n",
    "with open('/home/user/project/stopw.txt', 'r') as f:\n",
    "    stopw = f.read()\n",
    "f.closed\n",
    "stopw = stopw.replace('\\n',' ').split()"
   ]
  },
  {
   "cell_type": "code",
   "execution_count": 11,
   "metadata": {},
   "outputs": [
    {
     "data": {
      "text/plain": [
       "['αδιακοπα', 'αι', 'ακομα', 'ακομη', 'ακριβως']"
      ]
     },
     "execution_count": 11,
     "metadata": {},
     "output_type": "execute_result"
    }
   ],
   "source": [
    "stopw[:5]"
   ]
  },
  {
   "cell_type": "code",
   "execution_count": 12,
   "metadata": {
    "collapsed": true
   },
   "outputs": [],
   "source": [
    "def build_dataset(words, vocabulary_size, author_name):\n",
    "    count = []\n",
    "    # remove stressing and to lower\n",
    "    words = [w.lower().replace('»','').replace('«', '').replace('-','').replace('ώ','ω')\\\n",
    "                  .replace('ά','α').replace('έ','ε').replace('ή','η').replace('ί','ι').replace('ό','ο')\\\n",
    "                  .replace('ύ','υ').replace('(','').replace(')','') for w in words]\n",
    "    # exclude stopwords\n",
    "    words = [token for token in words if token not in stopw]\n",
    "    #print('Words after stopwords removal: {}'.format(len(words)))\n",
    "    \n",
    "    count.extend(collections.Counter(words).most_common(vocabulary_size - 1))\n",
    "\n",
    "    for word, _ in count:\n",
    "        if word not in dictionary and len(dictionary) < vocabulary_size:\n",
    "            dictionary[word] = len(dictionary)\n",
    "    unk_count = 0\n",
    "    for word in words:\n",
    "        if word in dictionary:\n",
    "            index = dictionary[word]\n",
    "            data.append([authors[author_name],index])     \n",
    "    return count"
   ]
  },
  {
   "cell_type": "code",
   "execution_count": 13,
   "metadata": {
    "collapsed": true
   },
   "outputs": [],
   "source": [
    "def read_author(file, path):\n",
    "    words = []\n",
    "    # we get author_name directly from filename\n",
    "    author_name = file[:-2]\n",
    "    dictionary[author_name] = len(dictionary)\n",
    "    # keep author index in a separate dictionary\n",
    "    authors[author_name] = dictionary[author_name]\n",
    "\n",
    "    pic = pickle.load(open(join(path, file),'rb'))\n",
    "    df = pd.DataFrame(pic)\n",
    "    #for a in df['article'].iloc[:500]:            # keep only first 500 articles\n",
    "    for a in df['article']:                        # all articles\n",
    "        tokens = word_tokenize(a)\n",
    "        words.extend(tokens)\n",
    "    print('Words in articles of {}: {}'.format(author_name,len(words)))\n",
    "    return words, author_name"
   ]
  },
  {
   "cell_type": "code",
   "execution_count": 14,
   "metadata": {},
   "outputs": [
    {
     "name": "stdout",
     "output_type": "stream",
     "text": [
      "Words in articles of zoulas: 75129\n",
      "Data size after zoulas's articles: 41280\n",
      "Words in articles of galiatsou: 70705\n",
      "Data size after galiatsou's articles: 80860\n",
      "Words in articles of nedou: 84281\n",
      "Data size after nedou's articles: 129251\n",
      "Words in articles of lakasas: 103867\n",
      "Data size after lakasas's articles: 190724\n",
      "Words in articles of mpistika: 107331\n",
      "Data size after mpistika's articles: 254917\n",
      "Words in articles of mpoukalas: 92743\n",
      "Data size after mpoukalas's articles: 305068\n",
      "Words in articles of liaggou: 95199\n",
      "Data size after liaggou's articles: 361040\n",
      "Words in articles of kleftogianni: 889308\n",
      "Data size after kleftogianni's articles: 872545\n",
      "Words in articles of giannikos: 189796\n",
      "Data size after giannikos's articles: 983875\n",
      "Words in articles of tzedakis: 711069\n",
      "Data size after tzedakis's articles: 1403293\n",
      "Words in articles of spyrakis: 75780\n",
      "Data size after spyrakis's articles: 1441994\n",
      "Words in articles of triantis: 178386\n",
      "Data size after triantis's articles: 1536333\n",
      "Words in articles of demertzis: 289938\n",
      "Data size after demertzis's articles: 1700043\n",
      "Words in articles of gelantali: 229274\n",
      "Data size after gelantali's articles: 1829384\n",
      "Words in articles of kiousis: 495156\n",
      "Data size after kiousis's articles: 2103465\n",
      "Words in articles of tzavara: 673153\n",
      "Data size after tzavara's articles: 2463948\n",
      "Words in articles of kalatzis: 162212\n",
      "Data size after kalatzis's articles: 2550336\n",
      "Words in articles of mpogiopoulos: 680107\n",
      "Data size after mpogiopoulos's articles: 2902989\n",
      "Words in articles of kakoulidis: 485061\n",
      "Data size after kakoulidis's articles: 3151938\n",
      "Words in articles of rizariotis: 302113\n",
      "Data size after rizariotis's articles: 3308752\n",
      "Words in articles of tragganidas: 420623\n",
      "Data size after tragganidas's articles: 3532913\n",
      "Words in articles of kanelli: 318380\n",
      "Data size after kanelli's articles: 3697025\n",
      "{'zoulas': 0, 'galiatsou': 10156, 'nedou': 15517, 'lakasas': 19270, 'mpistika': 25700, 'mpoukalas': 35941, 'liaggou': 45002, 'kleftogianni': 48014, 'giannikos': 86390, 'tzedakis': 90000, 'spyrakis': 90001, 'triantis': 90002, 'demertzis': 90003, 'gelantali': 90004, 'kiousis': 90005, 'tzavara': 90006, 'kalatzis': 90007, 'mpogiopoulos': 90008, 'kakoulidis': 90009, 'rizariotis': 90010, 'tragganidas': 90011, 'kanelli': 90012}\n"
     ]
    }
   ],
   "source": [
    "root = '/home/user/project/data/data/'\n",
    "authors = dict()\n",
    "dictionary = dict()\n",
    "data = list()\n",
    "# read all available newspapers\n",
    "for news in listdir(root):\n",
    "    path = join(root,news)\n",
    "# read all authors\n",
    "    for file in listdir(path):\n",
    "        words, author_name = read_author(file, path)\n",
    "        count = build_dataset(words, vocabulary_size, author_name)\n",
    "        \n",
    "        del words  # Hint to reduce memory.\n",
    "        print(\"Data size after {}'s articles: {}\".format(author_name, len(data)))\n",
    "reverse_dictionary = dict(zip(dictionary.values(), dictionary.keys()))\n",
    "reverse_authors = dict(zip(authors.values(), authors.keys()))\n",
    "print(authors)"
   ]
  },
  {
   "cell_type": "code",
   "execution_count": 15,
   "metadata": {},
   "outputs": [
    {
     "data": {
      "text/plain": [
       "90013"
      ]
     },
     "execution_count": 15,
     "metadata": {},
     "output_type": "execute_result"
    }
   ],
   "source": [
    "# could be slightly bigger than voabulary_size since we have to put all authors in it\n",
    "len(dictionary.keys())"
   ]
  },
  {
   "cell_type": "code",
   "execution_count": 16,
   "metadata": {},
   "outputs": [
    {
     "name": "stdout",
     "output_type": "stream",
     "text": [
      "zoulas\n",
      ",\n",
      ".\n",
      "κ.\n",
      "\n",
      "πασοκ\n",
      "δημαρ\n",
      "κυβερνηση\n",
      "παπανδρεου\n",
      "γ.\n",
      "ειπε\n",
      "μονον\n",
      "...\n",
      "δυο\n",
      "κουβελη\n",
      "βουλευτες\n",
      "περιπτωση\n",
      "κυβερνησης\n",
      "κομμα\n",
      "στελεχη\n",
      "εκ\n",
      "ν.δ\n"
     ]
    }
   ],
   "source": [
    "for i in xrange(22):\n",
    "    print(reverse_dictionary[i])"
   ]
  },
  {
   "cell_type": "code",
   "execution_count": 17,
   "metadata": {
    "collapsed": true
   },
   "outputs": [],
   "source": [
    "# Step 3: Function to generate a training batch for author2vec model.\n",
    "\n",
    "def generate_batch_author(batch_size):\n",
    "    global data_index\n",
    "    batch = np.ndarray(shape=(batch_size), dtype=np.int32)\n",
    "    labels = np.ndarray(shape=(batch_size, 1), dtype=np.int32)\n",
    "    # just return the correct tuples from data\n",
    "    for i in range(batch_size):\n",
    "        batch[i] = data[data_index][1]\n",
    "        labels[i, 0] = data[data_index][0]\n",
    "        data_index = (data_index + 1) % len(data)\n",
    "    return batch, labels"
   ]
  },
  {
   "cell_type": "code",
   "execution_count": 18,
   "metadata": {},
   "outputs": [
    {
     "data": {
      "text/plain": [
       "3697025"
      ]
     },
     "execution_count": 18,
     "metadata": {},
     "output_type": "execute_result"
    }
   ],
   "source": [
    "len(data)"
   ]
  },
  {
   "cell_type": "code",
   "execution_count": 21,
   "metadata": {},
   "outputs": [
    {
     "name": "stdout",
     "output_type": "stream",
     "text": [
      "61 πρωτη -> 0 zoulas\n",
      "103 φορα -> 0 zoulas\n",
      "22 πρωθυπουργος -> 0 zoulas\n",
      "344 παραδεχθηκε -> 0 zoulas\n",
      "410 αναγκαιο -> 0 zoulas\n",
      "984 σφαλμα -> 0 zoulas\n",
      "17 κυβερνησης -> 0 zoulas\n",
      "704 αυξηση -> 0 zoulas\n",
      "2687 φορολογηση -> 0 zoulas\n",
      "1909 επιχειρησεων -> 0 zoulas\n",
      "2 . -> 0 zoulas\n",
      "411 μιλωντας -> 0 zoulas\n",
      "1478 εκπροσωπους -> 0 zoulas\n",
      "1479 συνδεσμου -> 0 zoulas\n",
      "4460 εξαγωγεων -> 0 zoulas\n",
      "3 κ. -> 0 zoulas\n",
      "9 γ. -> 0 zoulas\n",
      "8 παπανδρεου -> 0 zoulas\n",
      "10 ειπε -> 0 zoulas\n",
      "262 συγκεκριμενα -> 0 zoulas\n",
      "1191 εποχη -> 0 zoulas\n",
      "190 επρεπε -> 0 zoulas\n",
      "4  -> 0 zoulas\n",
      "12 ... -> 0 zoulas\n",
      "4  -> 0 zoulas\n",
      "4461 μειωνουμε -> 0 zoulas\n",
      "1192 φορους -> 0 zoulas\n",
      "1 , -> 0 zoulas\n",
      "4462 ελλειμματων -> 0 zoulas\n",
      "377 χρεους -> 0 zoulas\n",
      "4463 βρηκαμε -> 0 zoulas\n",
      "4464 αναγκασμενοι -> 0 zoulas\n",
      "4465 ανεβασουμε -> 0 zoulas\n",
      "2 . -> 0 zoulas\n",
      "345 στοχος -> 0 zoulas\n",
      "4466 διευρυνουμε -> 0 zoulas\n",
      "1480 φορολογικη -> 0 zoulas\n",
      "317 βαση -> 0 zoulas\n",
      "818 μπορουμε -> 0 zoulas\n",
      "4467 μειωσουμε -> 0 zoulas\n",
      "1192 φορους -> 0 zoulas\n",
      "4468 βοηθησουμε -> 0 zoulas\n",
      "4469 επιχειρηματικοτητα -> 0 zoulas\n",
      "1 , -> 0 zoulas\n",
      "1193 συμπληρωσε -> 0 zoulas\n",
      "1 , -> 0 zoulas\n",
      "529 ζητωντας -> 0 zoulas\n",
      "603 επιχειρηματιες -> 0 zoulas\n",
      "4470 συμβαλουν -> 0 zoulas\n",
      "239 προτασεις -> 0 zoulas\n",
      "95 προσπαθεια -> 0 zoulas\n",
      "4471 καταπολεμησης -> 0 zoulas\n",
      "1194 διαφθορας -> 0 zoulas\n",
      "4472 εξαρτασθε -> 0 zoulas\n",
      "1195 ερχεται -> 0 zoulas\n",
      "4473 ανοιγει -> 0 zoulas\n",
      "4474 βιβλια -> 0 zoulas\n",
      "4475 εκβιαζει -> 0 zoulas\n",
      "12 ... -> 0 zoulas\n",
      "4  -> 0 zoulas\n",
      "2 . -> 0 zoulas\n",
      "51 πολιτικη -> 0 zoulas\n",
      "1481 ειδηση -> 0 zoulas\n",
      "2688 ημερας -> 0 zoulas\n",
      "1 , -> 0 zoulas\n",
      "1 , -> 0 zoulas\n",
      "469 προεκυψε -> 0 zoulas\n",
      "412 κυβερνητικο -> 0 zoulas\n",
      "1482 εκπροσωπο -> 0 zoulas\n",
      "1 , -> 0 zoulas\n",
      "4476 προσεδωσε -> 0 zoulas\n",
      "705 χαρακτηρα -> 0 zoulas\n",
      "819 ψηφου -> 0 zoulas\n",
      "413 εμπιστοσυνης -> 0 zoulas\n",
      "1483 αυτοδιοικητικες -> 0 zoulas\n",
      "31 εκλογες -> 0 zoulas\n",
      "1 , -> 0 zoulas\n",
      "820 εμφανη -> 0 zoulas\n",
      "183 στοχο -> 0 zoulas\n",
      "1910 συσπειρωσει -> 0 zoulas\n",
      "530 ψηφοφορους -> 0 zoulas\n",
      "17 κυβερνησης -> 0 zoulas\n",
      "1 , -> 0 zoulas\n",
      "2689 επισειοντας -> 0 zoulas\n",
      "172 εμμεσως -> 0 zoulas\n",
      "414 κινδυνο -> 0 zoulas\n",
      "4477 αποσταθεροποιησης -> 0 zoulas\n",
      "16 περιπτωση -> 0 zoulas\n",
      "1911 ηττηθει -> 0 zoulas\n",
      "985 αρκετες -> 0 zoulas\n",
      "2690 περιφερειες -> 0 zoulas\n",
      "45 χωρας -> 0 zoulas\n",
      "2 . -> 0 zoulas\n",
      "31 εκλογες -> 0 zoulas\n",
      "286 απλως -> 0 zoulas\n",
      "821 αναδειξη -> 0 zoulas\n",
      "1912 δημαρχων -> 0 zoulas\n",
      "4478 περιφερειαρχων -> 0 zoulas\n",
      "1 , -> 0 zoulas\n",
      "10 ειπε -> 0 zoulas\n",
      "3 κ. -> 0 zoulas\n",
      "9 γ. -> 0 zoulas\n",
      "287 πεταλωτης -> 0 zoulas\n",
      "1484 επικαλουμενος -> 0 zoulas\n",
      "986 αρχικως -> 0 zoulas\n",
      "2691 θεσμικη -> 0 zoulas\n",
      "263 αλλαγη -> 0 zoulas\n",
      "1913 καλλικρατη -> 0 zoulas\n",
      "2 . -> 0 zoulas\n",
      "2692 αντιμνημονιακη -> 0 zoulas\n",
      "604 δραση -> 0 zoulas\n",
      "21 ν.δ -> 0 zoulas\n",
      "2 . -> 0 zoulas\n",
      "470 συνεχεια -> 0 zoulas\n",
      "2693 ερωτηθει -> 0 zoulas\n",
      "605 αναφερθηκε -> 0 zoulas\n",
      "2694 εκτενως -> 0 zoulas\n",
      "2692 αντιμνημονιακη -> 0 zoulas\n",
      "604 δραση -> 0 zoulas\n",
      "531 αντιπολιτευσης -> 0 zoulas\n",
      "1 , -> 0 zoulas\n",
      "240 θελοντας -> 0 zoulas\n",
      "415 εμφανως -> 0 zoulas\n",
      "4479 αναπροσαρμοσει -> 0 zoulas\n",
      "4480 διακυβευμα -> 0 zoulas\n",
      "4481 επικειμενων -> 0 zoulas\n",
      "125 εκλογων -> 0 zoulas\n",
      "2 . -> 0 zoulas\n"
     ]
    }
   ],
   "source": [
    "# test output of batch\n",
    "data_index = 0\n",
    "batch, labels = generate_batch_author(batch_size=128)\n",
    "for i in range(128):\n",
    "    print(batch[i], reverse_dictionary[batch[i]], '->', labels[i, 0], reverse_dictionary[labels[i, 0]])"
   ]
  },
  {
   "cell_type": "code",
   "execution_count": 22,
   "metadata": {
    "collapsed": true
   },
   "outputs": [],
   "source": [
    "# Due to adding author names to our dictionary, we may have some more records than vocabulary_size \n",
    "vocabulary_size = len(dictionary.keys())"
   ]
  },
  {
   "cell_type": "code",
   "execution_count": 23,
   "metadata": {
    "collapsed": true
   },
   "outputs": [],
   "source": [
    "# Step 4: Build and train a skip-gram model.\n",
    "\n",
    "batch_size = 200\n",
    "embedding_size = 200  # Dimension of the embedding vector.\n",
    "skip_window = 5       # How many words to consider left and right.\n",
    "num_skips = 1         # How many times to reuse an input to generate a label.\n",
    "\n",
    "# We pick a random validation set to sample nearest neighbors. Here we limit the\n",
    "# validation samples to the words that have a low numeric ID, which by\n",
    "# construction are also the most frequent.\n",
    "valid_size = 16     # Random set of words to evaluate similarity on.\n",
    "valid_window = 100  # Only pick dev samples in the head of the distribution.\n",
    "valid_examples = np.random.choice(valid_window, valid_size, replace=False)\n",
    "num_sampled = 64    # Number of negative examples to sample.\n",
    "authors_size = len(authors.keys())"
   ]
  },
  {
   "cell_type": "code",
   "execution_count": 24,
   "metadata": {
    "collapsed": true
   },
   "outputs": [],
   "source": [
    "graph = tf.Graph()\n",
    "\n",
    "with graph.as_default():\n",
    "\n",
    "  # Input data.\n",
    "    train_inputs = tf.placeholder(tf.int32, shape=[batch_size])\n",
    "    train_labels = tf.placeholder(tf.int32, shape=[batch_size, 1])\n",
    "    valid_dataset = tf.constant(valid_examples, dtype=tf.int32)\n",
    "\n",
    "    # Look up embeddings for inputs.\n",
    "    embeddings = tf.Variable(tf.random_uniform([vocabulary_size, embedding_size], -1.0, 1.0))\n",
    "    embed = tf.nn.embedding_lookup(embeddings, train_inputs)\n",
    "    # Construct the variables for the NCE loss\n",
    "    nce_weights = tf.Variable(tf.truncated_normal([vocabulary_size, embedding_size],\n",
    "    stddev=1.0 / math.sqrt(embedding_size)))\n",
    "    nce_biases = tf.Variable(tf.zeros([vocabulary_size]))\n",
    "\n",
    "    # Compute the average NCE loss for the batch.\n",
    "    # tf.nce_loss automatically draws a new sample of the negative labels each\n",
    "    # time we evaluate the loss.\n",
    "    loss = tf.reduce_mean(\n",
    "      tf.nn.nce_loss(weights=nce_weights,\n",
    "                     biases=nce_biases,\n",
    "                     labels=train_labels,\n",
    "                     inputs=embed,\n",
    "                     num_sampled=num_sampled,\n",
    "                     num_classes=vocabulary_size))\n",
    "    optimizer = tf.train.GradientDescentOptimizer(1.0).minimize(loss)\n",
    "    #\n",
    "    # Compute the cosine similarity between minibatch examples and all embeddings.\n",
    "    norm = tf.sqrt(tf.reduce_sum(tf.square(embeddings), 1, keep_dims=True))\n",
    "    normalized_embeddings = embeddings / norm\n",
    "    valid_embeddings = tf.nn.embedding_lookup(normalized_embeddings, valid_dataset)\n",
    "    similarity = tf.matmul(valid_embeddings, normalized_embeddings, transpose_b=True)\n",
    "    #\n",
    "    # Add variable initializer.\n",
    "    # init = tf.initialize_all_variables()\n",
    "    init = tf.global_variables_initializer()"
   ]
  },
  {
   "cell_type": "code",
   "execution_count": 25,
   "metadata": {},
   "outputs": [
    {
     "name": "stdout",
     "output_type": "stream",
     "text": [
      "Initialized\n",
      "Average loss at step  0 :  296.47555542\n",
      "Epoch 0 just finished!\n",
      "Average loss at step  2000 :  150.639085377\n",
      "Average loss at step  4000 :  84.3792411175\n",
      "Average loss at step  6000 :  53.2924619958\n",
      "Average loss at step  8000 :  36.6564685053\n",
      "Average loss at step  10000 :  27.3893336042\n",
      "Average loss at step  12000 :  21.2217069631\n",
      "Average loss at step  14000 :  16.0001753168\n",
      "Average loss at step  16000 :  13.1503462368\n",
      "Average loss at step  18000 :  10.4743250583\n",
      "Average loss at step  20000 :  11.9084760104\n",
      "Epoch 1 just finished!\n",
      "Average loss at step  22000 :  10.151007468\n",
      "Average loss at step  24000 :  6.99746222045\n",
      "Average loss at step  26000 :  4.03354889518\n",
      "Average loss at step  28000 :  3.60154453455\n",
      "Average loss at step  30000 :  2.95213006517\n",
      "Average loss at step  32000 :  2.22306897093\n",
      "Average loss at step  34000 :  1.98823221155\n",
      "Average loss at step  36000 :  1.66820827665\n",
      "Average loss at step  38000 :  2.6071645066\n",
      "Average loss at step  40000 :  3.07447603154\n",
      "Epoch 2 just finished!\n",
      "Average loss at step  42000 :  2.0694806683\n",
      "Average loss at step  44000 :  0.80384037394\n",
      "Average loss at step  46000 :  0.758669110348\n",
      "Average loss at step  48000 :  0.619275101315\n",
      "Average loss at step  50000 :  0.528265206679\n",
      "Average loss at step  52000 :  0.497762134311\n",
      "Average loss at step  54000 :  0.367915492875\n",
      "Average loss at step  56000 :  0.9534232824\n",
      "Average loss at step  58000 :  1.10998326297\n",
      "Average loss at step  60000 :  0.889639599986\n",
      "Epoch 3 just finished!\n",
      "Average loss at step  62000 :  0.262427950065\n",
      "Average loss at step  64000 :  0.215215368182\n",
      "Average loss at step  66000 :  0.205146388601\n",
      "Average loss at step  68000 :  0.130962244944\n",
      "Average loss at step  70000 :  0.147003503914\n",
      "Average loss at step  72000 :  0.0848678406916\n",
      "Average loss at step  74000 :  0.286900323424\n"
     ]
    }
   ],
   "source": [
    "# Step 5: Begin training.\n",
    "data_index = 0\n",
    "num_steps = 74001\n",
    "epoch = 0\n",
    "config = tf.ConfigProto(allow_soft_placement=True)\n",
    "with tf.Session(config=config,graph=graph) as session:\n",
    "    # We must initialize all variables before we use them.\n",
    "    init.run()\n",
    "    print(\"Initialized\")\n",
    "    #\n",
    "    average_loss = 0\n",
    "    for step in xrange(num_steps):\n",
    "        batch_inputs, batch_labels = generate_batch_author(batch_size)\n",
    "        feed_dict = {train_inputs: batch_inputs, train_labels: batch_labels}\n",
    "        #\n",
    "        # We perform one update step by evaluating the optimizer op (including it\n",
    "        # in the list of returned values for session.run()\n",
    "\n",
    "        _, loss_val = session.run([optimizer, loss], feed_dict=feed_dict)\n",
    "        average_loss += loss_val\n",
    "        #\n",
    "        if step % 2000 == 0:\n",
    "            if step > 0:\n",
    "                average_loss /= 2000\n",
    "           # The average loss is an estimate of the loss over the last 2000 batches.\n",
    "            print(\"Average loss at step \", step, \": \", average_loss)\n",
    "            average_loss = 0\n",
    "        #\n",
    "        # Note that this is expensive (~20% slowdown if computed every 500 steps)\n",
    "        if step % 20000 == 0:\n",
    "            print('Epoch {} just finished!'.format(epoch))\n",
    "            epoch += 1\n",
    "        '''    sim = similarity.eval()\n",
    "            for i in xrange(valid_size):\n",
    "                valid_word = reverse_dictionary[valid_examples[i]]\n",
    "                top_k = 5  # number of nearest neighbors\n",
    "                nearest = (-sim[i, :]).argsort()[1:top_k + 1]\n",
    "                log_str = \"Nearest to %s:\" % valid_word\n",
    "                for k in xrange(top_k):\n",
    "                    close_word = reverse_dictionary[nearest[k]]\n",
    "                    log_str = \"%s %s,\" % (log_str, close_word)\n",
    "                print(log_str)\n",
    "        '''\n",
    "    final_embeddings = normalized_embeddings.eval()\n",
    "\n"
   ]
  },
  {
   "cell_type": "code",
   "execution_count": 26,
   "metadata": {
    "collapsed": true
   },
   "outputs": [],
   "source": [
    "def plot_with_labels(low_dim_embs, labels, filename='tsne.png'):\n",
    "    assert low_dim_embs.shape[0] >= len(labels), \"More labels than embeddings\"\n",
    "    plt.figure(figsize=(18, 18))  # in inches\n",
    "    for i, label in enumerate(labels):\n",
    "        x, y = low_dim_embs[i, :]\n",
    "        plt.scatter(x, y)\n",
    "        plt.annotate(label, xy=(x, y), xytext=(5, 2), textcoords='offset points', ha='right', va='bottom')\n",
    "    plt.savefig(filename)"
   ]
  },
  {
   "cell_type": "code",
   "execution_count": 32,
   "metadata": {
    "scrolled": false
   },
   "outputs": [
    {
     "name": "stderr",
     "output_type": "stream",
     "text": [
      "/home/user/miniconda3/lib/python3.6/site-packages/matplotlib/__init__.py:1405: UserWarning: \n",
      "This call to matplotlib.use() has no effect because the backend has already\n",
      "been chosen; matplotlib.use() must be called *before* pylab, matplotlib.pyplot,\n",
      "or matplotlib.backends is imported for the first time.\n",
      "\n",
      "  warnings.warn(_use_error_msg)\n"
     ]
    },
    {
     "name": "stdout",
     "output_type": "stream",
     "text": [
      "Populating the interactive namespace from numpy and matplotlib\n"
     ]
    },
    {
     "data": {
      "image/png": "[encoded data removed]",
      "text/plain": [
       "<matplotlib.figure.Figure at 0x7f38c27ad2e8>"
      ]
     },
     "metadata": {},
     "output_type": "display_data"
    }
   ],
   "source": [
    "try:\n",
    "    from sklearn.manifold import TSNE\n",
    "    import matplotlib\n",
    "    matplotlib.use('Agg')\n",
    "    get_ipython().magic(u'matplotlib inline')\n",
    "    get_ipython().magic(u'pylab inline')\n",
    "    import matplotlib.pyplot as plt\n",
    "    #\n",
    "    final_embeddings = np.array( final_embeddings , dtype=float)\n",
    "    # final_embeddings = np.array( final_embeddings , dtype=np.float64 )\n",
    "    tsne = TSNE(perplexity=30, n_components=2, init='pca', n_iter=5000)\n",
    "    # from final_embeddings, fit only author vectors\n",
    "    to_fit = [final_embeddings[i, :] for i in authors.values()]\n",
    "    low_dim_embs = tsne.fit_transform(to_fit)\n",
    "    labels = [reverse_authors[i] for i in authors.values()]\n",
    "    plot_with_labels(low_dim_embs, labels)\n",
    "except ImportError:\n",
    "    print(\"Please install sklearn, matplotlib, and scipy to visualize embeddings.\")"
   ]
  },
  {
   "cell_type": "code",
   "execution_count": 28,
   "metadata": {
    "collapsed": true
   },
   "outputs": [],
   "source": [
    "with open('/home/user/project/embed-all-200.pickle', 'wb') as f:\n",
    "    pickle.dump(final_embeddings, f) "
   ]
  },
  {
   "cell_type": "code",
   "execution_count": 29,
   "metadata": {
    "collapsed": true
   },
   "outputs": [],
   "source": [
    "with open('/home/user/project/embed-all-200-author-only.pickle', 'wb') as f:\n",
    "    pickle.dump(to_fit, f) "
   ]
  },
  {
   "cell_type": "code",
   "execution_count": null,
   "metadata": {
    "collapsed": true
   },
   "outputs": [],
   "source": []
  }
 ],
 "metadata": {
  "kernelspec": {
   "display_name": "Python 3",
   "language": "python",
   "name": "python3"
  },
  "language_info": {
   "codemirror_mode": {
    "name": "ipython",
    "version": 3
   },
   "file_extension": ".py",
   "mimetype": "text/x-python",
   "name": "python",
   "nbconvert_exporter": "python",
   "pygments_lexer": "ipython3",
   "version": "3.6.0"
  }
 },
 "nbformat": 4,
 "nbformat_minor": 2
}
