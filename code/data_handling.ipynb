{
 "cells": [
  {
   "cell_type": "markdown",
   "metadata": {},
   "source": [
    "### data statistics"
   ]
  },
  {
   "cell_type": "code",
   "execution_count": 101,
   "metadata": {
    "collapsed": true
   },
   "outputs": [],
   "source": [
    "from __future__ import print_function\n",
    "import numpy as npfrom os import listdir\n",
    "from os.path import join\n",
    "from collections import Counter\n",
    "from nltk import word_tokenize\n",
    "import pandas as pd\n",
    "import numpy as np"
   ]
  },
  {
   "cell_type": "code",
   "execution_count": 118,
   "metadata": {
    "collapsed": true
   },
   "outputs": [
    {
     "data": {
      "text/plain": [
       "['/home/user/project/data/data/kathimerini/zoulas.p',\n",
       " '/home/user/project/data/data/kathimerini/galiatsou.p',\n",
       " '/home/user/project/data/data/kathimerini/nedou.p',\n",
       " '/home/user/project/data/data/kathimerini/lakasas.p',\n",
       " '/home/user/project/data/data/kathimerini/mpistika.p',\n",
       " '/home/user/project/data/data/kathimerini/mpoukalas.p',\n",
       " '/home/user/project/data/data/kathimerini/liaggou.p']"
      ]
     },
     "execution_count": 118,
     "metadata": {},
     "output_type": "execute_result"
    }
   ],
   "source": [
    "mypath = '/home/user/project/data/data/kathimerini/'\n",
    "onlyfiles = [join(mypath, f) for f in listdir(mypath)]\n",
    "onlyfiles"
   ]
  },
  {
   "cell_type": "code",
   "execution_count": 120,
   "metadata": {},
   "outputs": [
    {
     "name": "stdout",
     "output_type": "stream",
     "text": [
      "Author: Του Κωνσταντινου Ζουλα - 158 articles - avg words: 266.626582278481\n",
      "Author: Του Παναγη Γαλιατσατου - 162 articles - avg words: 237.820987654321\n",
      "Author: Του Βασιλη Νεδου - 160 articles - avg words: 285.225\n",
      "Author: Του Αποστολου Λακασα - 196 articles - avg words: 280.30102040816325\n",
      "Author: Της Ελενης Μπιστικα - 187 articles - avg words: 307.28877005347596\n",
      "Author: Του Παντελη Μπουκαλα - 189 articles - avg words: 280.7037037037037\n",
      "Author: Της Χρυσας Λιαγγου - 163 articles - avg words: 295.04294478527606\n"
     ]
    }
   ],
   "source": [
    "for f in onlyfiles:\n",
    "    data = pickle.load(open(f,'rb'))\n",
    "    temp_df = pd.DataFrame(data)\n",
    "    count = 0\n",
    "    for a in temp_df['article']:\n",
    "        tokens = word_tokenize(a)\n",
    "        temp_count = len(Counter(tokens).keys())\n",
    "        count += temp_count\n",
    "    pr = 'Author: {} - {} articles - avg words: {}'.format(temp_df['author'][0], temp_df.shape[0], count / temp_df.shape[0])\n",
    "    print(pr)"
   ]
  },
  {
   "cell_type": "code",
   "execution_count": 121,
   "metadata": {},
   "outputs": [
    {
     "name": "stdout",
     "output_type": "stream",
     "text": [
      "Author: Νίκος ΜΠΟΓΙΟΠΟΥΛΟΣ - 1170 articles - avg words: 288.24957264957266\n",
      "Author: Του Γιώργου ΚΑΚΟΥΛΙΔΗ - 678 articles - avg words: 357.26106194690266\n",
      "Author: Παύλος ΡΙΖΑΡΓΙΩΤΗΣ - 486 articles - avg words: 321.2860082304527\n",
      "Author: Γρηγόρης ΤΡΑΓΓΑΝΙΔΑΣ - 364 articles - avg words: 542.3489010989011\n",
      "Author: Λιάνας ΚΑΝΕΛΛΗ - 517 articles - avg words: 354.52611218568666\n"
     ]
    }
   ],
   "source": [
    "mypath = '/home/user/project/data/data/rizospastis/'\n",
    "onlyfiles = [join(mypath, f) for f in listdir(mypath)]\n",
    "for f in onlyfiles:\n",
    "    data = pickle.load(open(f,'rb'))\n",
    "    temp_df = pd.DataFrame(data)\n",
    "    count = 0\n",
    "    for a in temp_df['article']:\n",
    "        tokens = word_tokenize(a)\n",
    "        temp_count = len(Counter(tokens).keys())\n",
    "        count += temp_count\n",
    "    pr = 'Author: {} - {} articles - avg words: {}'.format(temp_df['author'][0], temp_df.shape[0], count / temp_df.shape[0])\n",
    "    print(pr)"
   ]
  },
  {
   "cell_type": "code",
   "execution_count": 122,
   "metadata": {
    "scrolled": true
   },
   "outputs": [
    {
     "name": "stdout",
     "output_type": "stream",
     "text": [
      "Author: ['Της ΙΩΑΝΝΑΣ ΚΛΕΦΤΟΓΙΑΝΝΗ'] - 1034 articles - avg words: 436.1866537717602\n",
      "Author: ['Του ΑΔΑΜ ΓΙΑΝΝΙΚΟΥ'] - 326 articles - avg words: 320.35276073619633\n",
      "Author: ['Υπεύθυνος: ΕΠΙΜΕΛΕΙΑ: ΓΙΩΡΓΟΣ ΤΖΕΔΑΚΙΣ / tzedakis@enet.gr'] - 1793 articles - avg words: 214.14110429447854\n",
      "Author: ['Υπεύθυνος: Βαγγέλης Σπυράκης'] - 195 articles - avg words: 213.23076923076923\n",
      "Author: ['Του ΓΙΑΝΝΗ ΤΡΙΑΝΤΗ'] - 289 articles - avg words: 352.8200692041523\n",
      "Author: ['Του ΑΡΓΥΡΗ ΔΕΜΕΡΤΖΗ'] - 410 articles - avg words: 357.280487804878\n",
      "Author: ['Του ΜΙΧΑΗΛ ΓΕΛΑΝΤΑΛΙ'] - 409 articles - avg words: 305.28606356968214\n",
      "Author: ['Υπεύθυνος: ΕΠΙΜΕΛΕΙΑ: ΓΙΩΡΓΟΣ ΚΙΟΥΣΗΣ kiousis@enet.gr\\nΑπό τον ΠΕΤΡΟ ΜΑΝΤΑΙΟ'] - 2225 articles - avg words: 141.88404494382021\n",
      "Author: ['Της ΚΑΤΕΡΙΝΑΣ ΤΖΑΒΑΡΑ'] - 1787 articles - avg words: 224.7901510912143\n",
      "Author: ['Του ΜΑΝΩΛΗ ΚΑΛΑΤΖΗ'] - 398 articles - avg words: 230.82663316582915\n"
     ]
    }
   ],
   "source": [
    "mypath = '/home/user/project/data/data/eleftherotypia/'\n",
    "onlyfiles = [join(mypath, f) for f in listdir(mypath)]\n",
    "for f in onlyfiles:\n",
    "    data = pickle.load(open(f,'rb'))\n",
    "    temp_df = pd.DataFrame(data)\n",
    "    count = 0\n",
    "    for a in temp_df['article']:\n",
    "        tokens = word_tokenize(a)\n",
    "        temp_count = len(Counter(tokens).keys())\n",
    "        count += temp_count\n",
    "    pr = 'Author: {} - {} articles - avg words: {}'.format(temp_df['author'][0], temp_df.shape[0], count / temp_df.shape[0])\n",
    "    print(pr)"
   ]
  },
  {
   "cell_type": "markdown",
   "metadata": {
    "collapsed": true
   },
   "source": [
    "## data cleaning"
   ]
  },
  {
   "cell_type": "code",
   "execution_count": 15,
   "metadata": {
    "collapsed": true
   },
   "outputs": [],
   "source": [
    "data = pickle.load(open('/home/user/project/data/data/kathimerini/lakasas.p','rb'))\n",
    "kath = pd.DataFrame(data)"
   ]
  },
  {
   "cell_type": "code",
   "execution_count": 49,
   "metadata": {
    "collapsed": true
   },
   "outputs": [],
   "source": [
    "data = pickle.load(open('/home/user/project/data/data/rizospastis/kanelli.p','rb'))\n",
    "rizo = pd.DataFrame(data)"
   ]
  },
  {
   "cell_type": "code",
   "execution_count": 69,
   "metadata": {
    "collapsed": true
   },
   "outputs": [],
   "source": [
    "data = pickle.load(open('/home/user/project/data/data/eleftherotypia/gelantali.p','rb'))\n",
    "elef = pd.DataFrame(data)"
   ]
  },
  {
   "cell_type": "code",
   "execution_count": 5,
   "metadata": {},
   "outputs": [
    {
     "data": {
      "text/html": [
       "<div>\n",
       "<table border=\"1\" class=\"dataframe\">\n",
       "  <thead>\n",
       "    <tr style=\"text-align: right;\">\n",
       "      <th></th>\n",
       "      <th>aid</th>\n",
       "      <th>article</th>\n",
       "      <th>author</th>\n",
       "      <th>category</th>\n",
       "      <th>date</th>\n",
       "      <th>subcategory</th>\n",
       "      <th>title</th>\n",
       "    </tr>\n",
       "  </thead>\n",
       "  <tbody>\n",
       "    <tr>\n",
       "      <th>0</th>\n",
       "      <td>519387</td>\n",
       "      <td>Το 1844 ο Κωνσταντίνος Ιωνίδης προσέφερε στον ...</td>\n",
       "      <td>Του Αποστολου Λακασα</td>\n",
       "      <td>ARTICLE</td>\n",
       "      <td>2013-05-03T00:00:00</td>\n",
       "      <td>EΛΛAΔA</td>\n",
       "      <td>Ερίζουν για την Ιωνίδειο Σχολή</td>\n",
       "    </tr>\n",
       "    <tr>\n",
       "      <th>1</th>\n",
       "      <td>544880</td>\n",
       "      <td>«Η διεύρυνση των εργασιακών σχέσεων συναντάται...</td>\n",
       "      <td>Του Αποστολου Λακασα</td>\n",
       "      <td>ARTICLE</td>\n",
       "      <td>2014-01-03T00:00:00</td>\n",
       "      <td>EΛΛAΔA</td>\n",
       "      <td>Δυναμικό «παρών» των φοιτητών στα αμφιθέατρα</td>\n",
       "    </tr>\n",
       "  </tbody>\n",
       "</table>\n",
       "</div>"
      ],
      "text/plain": [
       "      aid                                            article  \\\n",
       "0  519387  Το 1844 ο Κωνσταντίνος Ιωνίδης προσέφερε στον ...   \n",
       "1  544880  «Η διεύρυνση των εργασιακών σχέσεων συναντάται...   \n",
       "\n",
       "                 author category                 date subcategory  \\\n",
       "0  Του Αποστολου Λακασα  ARTICLE  2013-05-03T00:00:00      EΛΛAΔA   \n",
       "1  Του Αποστολου Λακασα  ARTICLE  2014-01-03T00:00:00      EΛΛAΔA   \n",
       "\n",
       "                                          title  \n",
       "0                Ερίζουν για την Ιωνίδειο Σχολή  \n",
       "1  Δυναμικό «παρών» των φοιτητών στα αμφιθέατρα  "
      ]
     },
     "execution_count": 5,
     "metadata": {},
     "output_type": "execute_result"
    }
   ],
   "source": [
    "kath.head(2)"
   ]
  },
  {
   "cell_type": "code",
   "execution_count": 16,
   "metadata": {},
   "outputs": [
    {
     "data": {
      "text/plain": [
       "Index(['aid', 'article', 'author', 'category', 'date', 'subcategory', 'title'], dtype='object')"
      ]
     },
     "execution_count": 16,
     "metadata": {},
     "output_type": "execute_result"
    }
   ],
   "source": [
    "kath.keys()"
   ]
  },
  {
   "cell_type": "code",
   "execution_count": 63,
   "metadata": {
    "collapsed": true
   },
   "outputs": [],
   "source": [
    "kath.drop(['aid','date','category'], axis=1, inplace=True)\n",
    "kath['author'] = 'lakasas'"
   ]
  },
  {
   "cell_type": "code",
   "execution_count": 19,
   "metadata": {},
   "outputs": [
    {
     "data": {
      "text/html": [
       "<div>\n",
       "<table border=\"1\" class=\"dataframe\">\n",
       "  <thead>\n",
       "    <tr style=\"text-align: right;\">\n",
       "      <th></th>\n",
       "      <th>article</th>\n",
       "      <th>author</th>\n",
       "      <th>subcategory</th>\n",
       "      <th>title</th>\n",
       "    </tr>\n",
       "  </thead>\n",
       "  <tbody>\n",
       "    <tr>\n",
       "      <th>0</th>\n",
       "      <td>Το 1844 ο Κωνσταντίνος Ιωνίδης προσέφερε στον ...</td>\n",
       "      <td>Του Αποστολου Λακασα</td>\n",
       "      <td>EΛΛAΔA</td>\n",
       "      <td>Ερίζουν για την Ιωνίδειο Σχολή</td>\n",
       "    </tr>\n",
       "    <tr>\n",
       "      <th>1</th>\n",
       "      <td>«Η διεύρυνση των εργασιακών σχέσεων συναντάται...</td>\n",
       "      <td>Του Αποστολου Λακασα</td>\n",
       "      <td>EΛΛAΔA</td>\n",
       "      <td>Δυναμικό «παρών» των φοιτητών στα αμφιθέατρα</td>\n",
       "    </tr>\n",
       "    <tr>\n",
       "      <th>2</th>\n",
       "      <td>Τη μείωση του αριθμού των εισακτέων σε σχολές ...</td>\n",
       "      <td>Του Αποστολου Λακασα</td>\n",
       "      <td>EΛΛAΔA</td>\n",
       "      <td>Κορεσμός στους προστατευόμενους κλάδους</td>\n",
       "    </tr>\n",
       "    <tr>\n",
       "      <th>3</th>\n",
       "      <td>«Η επαναλειτουργία της Θεολογικής Σχολής της Χ...</td>\n",
       "      <td>Του Αποστολου Λακασα</td>\n",
       "      <td>EΛΛAΔA</td>\n",
       "      <td>Μήνυμα ελπίδας η επαναλειτουργία της Θεολογική...</td>\n",
       "    </tr>\n",
       "    <tr>\n",
       "      <th>4</th>\n",
       "      <td>Κατά δύο αυξάνονται από την επόμενη σχολική χρ...</td>\n",
       "      <td>Του Αποστολου Λακασα</td>\n",
       "      <td>EΛΛAΔA</td>\n",
       "      <td>Αυξάνονται οι ώρες διδασκαλίας καθηγητών</td>\n",
       "    </tr>\n",
       "  </tbody>\n",
       "</table>\n",
       "</div>"
      ],
      "text/plain": [
       "                                             article                author  \\\n",
       "0  Το 1844 ο Κωνσταντίνος Ιωνίδης προσέφερε στον ...  Του Αποστολου Λακασα   \n",
       "1  «Η διεύρυνση των εργασιακών σχέσεων συναντάται...  Του Αποστολου Λακασα   \n",
       "2  Τη μείωση του αριθμού των εισακτέων σε σχολές ...  Του Αποστολου Λακασα   \n",
       "3  «Η επαναλειτουργία της Θεολογικής Σχολής της Χ...  Του Αποστολου Λακασα   \n",
       "4  Κατά δύο αυξάνονται από την επόμενη σχολική χρ...  Του Αποστολου Λακασα   \n",
       "\n",
       "  subcategory                                              title  \n",
       "0      EΛΛAΔA                     Ερίζουν για την Ιωνίδειο Σχολή  \n",
       "1      EΛΛAΔA       Δυναμικό «παρών» των φοιτητών στα αμφιθέατρα  \n",
       "2      EΛΛAΔA            Κορεσμός στους προστατευόμενους κλάδους  \n",
       "3      EΛΛAΔA  Μήνυμα ελπίδας η επαναλειτουργία της Θεολογική...  \n",
       "4      EΛΛAΔA           Αυξάνονται οι ώρες διδασκαλίας καθηγητών  "
      ]
     },
     "execution_count": 19,
     "metadata": {},
     "output_type": "execute_result"
    }
   ],
   "source": [
    "kath.head()"
   ]
  },
  {
   "cell_type": "code",
   "execution_count": 21,
   "metadata": {},
   "outputs": [
    {
     "data": {
      "text/html": [
       "<div>\n",
       "<table border=\"1\" class=\"dataframe\">\n",
       "  <thead>\n",
       "    <tr style=\"text-align: right;\">\n",
       "      <th></th>\n",
       "      <th>aid</th>\n",
       "      <th>article</th>\n",
       "      <th>author</th>\n",
       "      <th>category</th>\n",
       "      <th>date</th>\n",
       "      <th>link</th>\n",
       "      <th>nof_words</th>\n",
       "      <th>page</th>\n",
       "      <th>title</th>\n",
       "      <th>title2</th>\n",
       "      <th>version</th>\n",
       "    </tr>\n",
       "  </thead>\n",
       "  <tbody>\n",
       "    <tr>\n",
       "      <th>0</th>\n",
       "      <td>6484600</td>\n",
       "      <td>Τώρα αρχίζει η μεγάλη μάχη! 'Η μήπως αισιοδοξο...</td>\n",
       "      <td>Λιάνας ΚΑΝΕΛΛΗ</td>\n",
       "      <td>politics</td>\n",
       "      <td>2011-10-09T00:00:00</td>\n",
       "      <td>http://www.rizospastis.gr/storyTextOnly.do?id=...</td>\n",
       "      <td>464</td>\n",
       "      <td>7</td>\n",
       "      <td>Εργασία μάρκα Vs Κεφάλαιο μπάνκα</td>\n",
       "      <td>Εργασία μάρκα Vs Κεφάλαιο μπάνκα.</td>\n",
       "      <td>NaN</td>\n",
       "    </tr>\n",
       "    <tr>\n",
       "      <th>1</th>\n",
       "      <td>7323203</td>\n",
       "      <td>Oταν ο λαός γρυλίζει και μάλιστα μαζικά κι εκκ...</td>\n",
       "      <td>Λιάνας ΚΑΝΕΛΛΗ</td>\n",
       "      <td>politics</td>\n",
       "      <td>2013-03-03T00:00:00</td>\n",
       "      <td>http://www.rizospastis.gr/storyTextOnly.do?id=...</td>\n",
       "      <td>519</td>\n",
       "      <td>5</td>\n",
       "      <td>Ανάλυσέ το...</td>\n",
       "      <td>Ανάλυσέ το....</td>\n",
       "      <td>NaN</td>\n",
       "    </tr>\n",
       "  </tbody>\n",
       "</table>\n",
       "</div>"
      ],
      "text/plain": [
       "       aid                                            article          author  \\\n",
       "0  6484600  Τώρα αρχίζει η μεγάλη μάχη! 'Η μήπως αισιοδοξο...  Λιάνας ΚΑΝΕΛΛΗ   \n",
       "1  7323203  Oταν ο λαός γρυλίζει και μάλιστα μαζικά κι εκκ...  Λιάνας ΚΑΝΕΛΛΗ   \n",
       "\n",
       "   category                 date  \\\n",
       "0  politics  2011-10-09T00:00:00   \n",
       "1  politics  2013-03-03T00:00:00   \n",
       "\n",
       "                                                link  nof_words  page  \\\n",
       "0  http://www.rizospastis.gr/storyTextOnly.do?id=...        464     7   \n",
       "1  http://www.rizospastis.gr/storyTextOnly.do?id=...        519     5   \n",
       "\n",
       "                              title                             title2  \\\n",
       "0  Εργασία μάρκα Vs Κεφάλαιο μπάνκα  Εργασία μάρκα Vs Κεφάλαιο μπάνκα.   \n",
       "1                     Ανάλυσέ το...                     Ανάλυσέ το....   \n",
       "\n",
       "   version  \n",
       "0      NaN  \n",
       "1      NaN  "
      ]
     },
     "execution_count": 21,
     "metadata": {},
     "output_type": "execute_result"
    }
   ],
   "source": [
    "rizo.head(2)"
   ]
  },
  {
   "cell_type": "code",
   "execution_count": 52,
   "metadata": {
    "collapsed": true
   },
   "outputs": [],
   "source": [
    "rizo.drop(['aid','date','link','nof_words','page','version','title2'], axis=1, inplace=True)"
   ]
  },
  {
   "cell_type": "code",
   "execution_count": 26,
   "metadata": {},
   "outputs": [
    {
     "data": {
      "text/plain": [
       "False"
      ]
     },
     "execution_count": 26,
     "metadata": {},
     "output_type": "execute_result"
    }
   ],
   "source": [
    "all(rizo['title'] == rizo['title2'])"
   ]
  },
  {
   "cell_type": "code",
   "execution_count": 29,
   "metadata": {
    "collapsed": true
   },
   "outputs": [
    {
     "name": "stdout",
     "output_type": "stream",
     "text": [
      "1                            Ανάλυσέ το...\n",
      "2                                   Η φόλα\n",
      "3             «Π» όπως πόρνη και πλιάτσικο\n",
      "4                                 Η σουπιά\n",
      "5                        Η παρθενορραφή...\n",
      "6     1821 - 2021: 200 χρόνια μια ζαριά...\n",
      "7                        Μετωπικά στη σήψη\n",
      "8                    Εκβιάζοντας το μέλλον\n",
      "9            Συγκρίσεις σκληρές σα μέταλλο\n",
      "10                    Οαση για γκαμήλες...\n",
      "Name: title, dtype: object\n",
      "1                            Ανάλυσέ το....\n",
      "2                                   Η φόλα.\n",
      "3             «Π» όπως πόρνη και πλιάτσικο.\n",
      "4                                 Η σουπιά.\n",
      "5                        Η παρθενορραφή....\n",
      "6     1821 - 2021: 200 χρόνια μια ζαριά....\n",
      "7                        Μετωπικά στη σήψη.\n",
      "8                    Εκβιάζοντας το μέλλον.\n",
      "9            Συγκρίσεις σκληρές σα μέταλλο.\n",
      "10                    Οαση για γκαμήλες....\n",
      "Name: title2, dtype: object\n"
     ]
    }
   ],
   "source": [
    "print(rizo['title'].loc[1:10])\n",
    "print(rizo['title2'].loc[1:10])"
   ]
  },
  {
   "cell_type": "code",
   "execution_count": 31,
   "metadata": {},
   "outputs": [
    {
     "data": {
      "text/html": [
       "<div>\n",
       "<table border=\"1\" class=\"dataframe\">\n",
       "  <thead>\n",
       "    <tr style=\"text-align: right;\">\n",
       "      <th></th>\n",
       "      <th>article</th>\n",
       "      <th>author</th>\n",
       "      <th>category</th>\n",
       "      <th>title</th>\n",
       "    </tr>\n",
       "  </thead>\n",
       "  <tbody>\n",
       "    <tr>\n",
       "      <th>0</th>\n",
       "      <td>Τώρα αρχίζει η μεγάλη μάχη! 'Η μήπως αισιοδοξο...</td>\n",
       "      <td>Λιάνας ΚΑΝΕΛΛΗ</td>\n",
       "      <td>politics</td>\n",
       "      <td>Εργασία μάρκα Vs Κεφάλαιο μπάνκα</td>\n",
       "    </tr>\n",
       "    <tr>\n",
       "      <th>1</th>\n",
       "      <td>Oταν ο λαός γρυλίζει και μάλιστα μαζικά κι εκκ...</td>\n",
       "      <td>Λιάνας ΚΑΝΕΛΛΗ</td>\n",
       "      <td>politics</td>\n",
       "      <td>Ανάλυσέ το...</td>\n",
       "    </tr>\n",
       "  </tbody>\n",
       "</table>\n",
       "</div>"
      ],
      "text/plain": [
       "                                             article          author  \\\n",
       "0  Τώρα αρχίζει η μεγάλη μάχη! 'Η μήπως αισιοδοξο...  Λιάνας ΚΑΝΕΛΛΗ   \n",
       "1  Oταν ο λαός γρυλίζει και μάλιστα μαζικά κι εκκ...  Λιάνας ΚΑΝΕΛΛΗ   \n",
       "\n",
       "   category                             title  \n",
       "0  politics  Εργασία μάρκα Vs Κεφάλαιο μπάνκα  \n",
       "1  politics                     Ανάλυσέ το...  "
      ]
     },
     "execution_count": 31,
     "metadata": {},
     "output_type": "execute_result"
    }
   ],
   "source": [
    "rizo.head(2)"
   ]
  },
  {
   "cell_type": "code",
   "execution_count": 60,
   "metadata": {
    "collapsed": true
   },
   "outputs": [],
   "source": [
    "#rizo['author'] = rizo['author'].str.lower()\n",
    "rizo['author'] = 'kanelli'"
   ]
  },
  {
   "cell_type": "code",
   "execution_count": 61,
   "metadata": {},
   "outputs": [
    {
     "data": {
      "text/html": [
       "<div>\n",
       "<table border=\"1\" class=\"dataframe\">\n",
       "  <thead>\n",
       "    <tr style=\"text-align: right;\">\n",
       "      <th></th>\n",
       "      <th>article</th>\n",
       "      <th>author</th>\n",
       "      <th>category</th>\n",
       "      <th>title</th>\n",
       "    </tr>\n",
       "  </thead>\n",
       "  <tbody>\n",
       "    <tr>\n",
       "      <th>0</th>\n",
       "      <td>Τώρα αρχίζει η μεγάλη μάχη! 'Η μήπως αισιοδοξο...</td>\n",
       "      <td>kanelli</td>\n",
       "      <td>politics</td>\n",
       "      <td>Εργασία μάρκα Vs Κεφάλαιο μπάνκα</td>\n",
       "    </tr>\n",
       "    <tr>\n",
       "      <th>1</th>\n",
       "      <td>Oταν ο λαός γρυλίζει και μάλιστα μαζικά κι εκκ...</td>\n",
       "      <td>kanelli</td>\n",
       "      <td>politics</td>\n",
       "      <td>Ανάλυσέ το...</td>\n",
       "    </tr>\n",
       "    <tr>\n",
       "      <th>2</th>\n",
       "      <td>Το πιο φτηνό, το πιο επικίνδυνα άχρηστο παραμύ...</td>\n",
       "      <td>kanelli</td>\n",
       "      <td>politics</td>\n",
       "      <td>Η φόλα</td>\n",
       "    </tr>\n",
       "    <tr>\n",
       "      <th>3</th>\n",
       "      <td>Η παγκοσμιοποίηση δεν είναι βεβαίως μια καινού...</td>\n",
       "      <td>kanelli</td>\n",
       "      <td>politics</td>\n",
       "      <td>«Π» όπως πόρνη και πλιάτσικο</td>\n",
       "    </tr>\n",
       "    <tr>\n",
       "      <th>4</th>\n",
       "      <td>Επί χούντας, εκεί που η τηλεόραση ήταν στα σπά...</td>\n",
       "      <td>kanelli</td>\n",
       "      <td>politics</td>\n",
       "      <td>Η σουπιά</td>\n",
       "    </tr>\n",
       "  </tbody>\n",
       "</table>\n",
       "</div>"
      ],
      "text/plain": [
       "                                             article   author  category  \\\n",
       "0  Τώρα αρχίζει η μεγάλη μάχη! 'Η μήπως αισιοδοξο...  kanelli  politics   \n",
       "1  Oταν ο λαός γρυλίζει και μάλιστα μαζικά κι εκκ...  kanelli  politics   \n",
       "2  Το πιο φτηνό, το πιο επικίνδυνα άχρηστο παραμύ...  kanelli  politics   \n",
       "3  Η παγκοσμιοποίηση δεν είναι βεβαίως μια καινού...  kanelli  politics   \n",
       "4  Επί χούντας, εκεί που η τηλεόραση ήταν στα σπά...  kanelli  politics   \n",
       "\n",
       "                              title  \n",
       "0  Εργασία μάρκα Vs Κεφάλαιο μπάνκα  \n",
       "1                     Ανάλυσέ το...  \n",
       "2                            Η φόλα  \n",
       "3      «Π» όπως πόρνη και πλιάτσικο  \n",
       "4                          Η σουπιά  "
      ]
     },
     "execution_count": 61,
     "metadata": {},
     "output_type": "execute_result"
    }
   ],
   "source": [
    "rizo.head(5)"
   ]
  },
  {
   "cell_type": "code",
   "execution_count": 70,
   "metadata": {},
   "outputs": [
    {
     "data": {
      "text/html": [
       "<div>\n",
       "<table border=\"1\" class=\"dataframe\">\n",
       "  <thead>\n",
       "    <tr style=\"text-align: right;\">\n",
       "      <th></th>\n",
       "      <th>aid</th>\n",
       "      <th>article</th>\n",
       "      <th>author</th>\n",
       "      <th>category</th>\n",
       "      <th>date</th>\n",
       "      <th>description</th>\n",
       "      <th>images</th>\n",
       "      <th>keywords</th>\n",
       "      <th>link</th>\n",
       "      <th>sources</th>\n",
       "      <th>title</th>\n",
       "    </tr>\n",
       "  </thead>\n",
       "  <tbody>\n",
       "    <tr>\n",
       "      <th>0</th>\n",
       "      <td>default_454765</td>\n",
       "      <td>Οπως επισημαίνει ο οίκος αξιολόγησης, η χώρα έ...</td>\n",
       "      <td>[Του ΜΙΧΑΗΛ ΓΕΛΑΝΤΑΛΙ]</td>\n",
       "      <td>[Πολιτική]</td>\n",
       "      <td>2014-02-11T00:00:00</td>\n",
       "      <td>«Μαξιλάρι» 11,4 δισ. ευρώ θα έχει η Αθήνα στην...</td>\n",
       "      <td>[http://s.enet.gr/resources/2014-11/8-9-1-thum...</td>\n",
       "      <td>[Υπουργείο Οικονομικών, Τράπεζες &amp; χρηματοπιστ...</td>\n",
       "      <td>http://www.enet.gr/?i=news.el.article&amp;id=454765</td>\n",
       "      <td>[]</td>\n",
       "      <td>Ενα μαξιλάρι γεμάτο αγκάθια για τον κ. Σαμαρά</td>\n",
       "    </tr>\n",
       "    <tr>\n",
       "      <th>1</th>\n",
       "      <td>default_382936</td>\n",
       "      <td>Στη σύσταση και λειτουργία χαρτοφυλακίου «ειδι...</td>\n",
       "      <td>[Των ΜΙΧΑΗΛ ΓΕΛΑΝΤΑΛΙ, ΑΛΕΞΑΝΔΡΟΥ ΚΛΩΣΣΑ]</td>\n",
       "      <td>[Οικονομία]</td>\n",
       "      <td>2013-08-30T00:00:00</td>\n",
       "      <td>Θέμα ΤΑΙΠΕΔ ανακινούν οι «Financial Times», πο...</td>\n",
       "      <td>[http://s.enet.gr/resources/2013-08/43-1--8-th...</td>\n",
       "      <td>[ΔΝΤ, Ευρωπαϊκή Κεντρική Τράπεζα (ΕΚΤ), ΤΑΙΠΕΔ...</td>\n",
       "      <td>http://www.enet.gr/?i=news.el.article&amp;id=382936</td>\n",
       "      <td>[]</td>\n",
       "      <td>Σχέδιο για... ΤΑΙΠΕΔ Λουξεμβούργου</td>\n",
       "    </tr>\n",
       "  </tbody>\n",
       "</table>\n",
       "</div>"
      ],
      "text/plain": [
       "              aid                                            article  \\\n",
       "0  default_454765  Οπως επισημαίνει ο οίκος αξιολόγησης, η χώρα έ...   \n",
       "1  default_382936  Στη σύσταση και λειτουργία χαρτοφυλακίου «ειδι...   \n",
       "\n",
       "                                      author     category  \\\n",
       "0                     [Του ΜΙΧΑΗΛ ΓΕΛΑΝΤΑΛΙ]   [Πολιτική]   \n",
       "1  [Των ΜΙΧΑΗΛ ΓΕΛΑΝΤΑΛΙ, ΑΛΕΞΑΝΔΡΟΥ ΚΛΩΣΣΑ]  [Οικονομία]   \n",
       "\n",
       "                  date                                        description  \\\n",
       "0  2014-02-11T00:00:00  «Μαξιλάρι» 11,4 δισ. ευρώ θα έχει η Αθήνα στην...   \n",
       "1  2013-08-30T00:00:00  Θέμα ΤΑΙΠΕΔ ανακινούν οι «Financial Times», πο...   \n",
       "\n",
       "                                              images  \\\n",
       "0  [http://s.enet.gr/resources/2014-11/8-9-1-thum...   \n",
       "1  [http://s.enet.gr/resources/2013-08/43-1--8-th...   \n",
       "\n",
       "                                            keywords  \\\n",
       "0  [Υπουργείο Οικονομικών, Τράπεζες & χρηματοπιστ...   \n",
       "1  [ΔΝΤ, Ευρωπαϊκή Κεντρική Τράπεζα (ΕΚΤ), ΤΑΙΠΕΔ...   \n",
       "\n",
       "                                              link sources  \\\n",
       "0  http://www.enet.gr/?i=news.el.article&id=454765      []   \n",
       "1  http://www.enet.gr/?i=news.el.article&id=382936      []   \n",
       "\n",
       "                                           title  \n",
       "0  Ενα μαξιλάρι γεμάτο αγκάθια για τον κ. Σαμαρά  \n",
       "1             Σχέδιο για... ΤΑΙΠΕΔ Λουξεμβούργου  "
      ]
     },
     "execution_count": 70,
     "metadata": {},
     "output_type": "execute_result"
    }
   ],
   "source": [
    "elef.head(2)"
   ]
  },
  {
   "cell_type": "code",
   "execution_count": 75,
   "metadata": {
    "collapsed": true
   },
   "outputs": [
    {
     "ename": "SyntaxError",
     "evalue": "EOL while scanning string literal (<ipython-input-75-df28a3f68b29>, line 1)",
     "output_type": "error",
     "traceback": [
      "\u001b[0;36m  File \u001b[0;32m\"<ipython-input-75-df28a3f68b29>\"\u001b[0;36m, line \u001b[0;32m1\u001b[0m\n\u001b[0;31m    elef.drop(['aid','date','images','link','sources', 'description','keywords], axis=1, inplace=True)\u001b[0m\n\u001b[0m                                                                                                      ^\u001b[0m\n\u001b[0;31mSyntaxError\u001b[0m\u001b[0;31m:\u001b[0m EOL while scanning string literal\n"
     ]
    }
   ],
   "source": [
    "elef.drop(['aid','date','images','link','sources', 'description','keywords'], axis=1, inplace=True)"
   ]
  },
  {
   "cell_type": "code",
   "execution_count": 81,
   "metadata": {
    "collapsed": true
   },
   "outputs": [],
   "source": [
    "elef['author'] = 'gelantalis'"
   ]
  },
  {
   "cell_type": "code",
   "execution_count": 59,
   "metadata": {
    "collapsed": true
   },
   "outputs": [
    {
     "data": {
      "text/plain": [
       "0    gelantalis\n",
       "1    gelantalis\n",
       "2    gelantalis\n",
       "3    gelantalis\n",
       "4    gelantalis\n",
       "5    gelantalis\n",
       "6    gelantalis\n",
       "7    gelantalis\n",
       "8    gelantalis\n",
       "9    gelantalis\n",
       "Name: author, dtype: object"
      ]
     },
     "execution_count": 59,
     "metadata": {},
     "output_type": "execute_result"
    }
   ],
   "source": [
    "elef['author'].head(10)"
   ]
  },
  {
   "cell_type": "code",
   "execution_count": 79,
   "metadata": {
    "collapsed": true
   },
   "outputs": [],
   "source": [
    "kath['category'] = kath['subcategory']\n",
    "kath.drop(['subcategory'], axis=1, inplace=True)"
   ]
  },
  {
   "cell_type": "code",
   "execution_count": 84,
   "metadata": {},
   "outputs": [
    {
     "data": {
      "text/html": [
       "<div>\n",
       "<table border=\"1\" class=\"dataframe\">\n",
       "  <thead>\n",
       "    <tr style=\"text-align: right;\">\n",
       "      <th></th>\n",
       "      <th>article</th>\n",
       "      <th>author</th>\n",
       "      <th>title</th>\n",
       "    </tr>\n",
       "  </thead>\n",
       "  <tbody>\n",
       "    <tr>\n",
       "      <th>0</th>\n",
       "      <td>Το 1844 ο Κωνσταντίνος Ιωνίδης προσέφερε στον ...</td>\n",
       "      <td>lakasas</td>\n",
       "      <td>Ερίζουν για την Ιωνίδειο Σχολή</td>\n",
       "    </tr>\n",
       "  </tbody>\n",
       "</table>\n",
       "</div>"
      ],
      "text/plain": [
       "                                             article   author  \\\n",
       "0  Το 1844 ο Κωνσταντίνος Ιωνίδης προσέφερε στον ...  lakasas   \n",
       "\n",
       "                            title  \n",
       "0  Ερίζουν για την Ιωνίδειο Σχολή  "
      ]
     },
     "execution_count": 84,
     "metadata": {},
     "output_type": "execute_result"
    }
   ],
   "source": [
    "kath.head(1)"
   ]
  },
  {
   "cell_type": "code",
   "execution_count": 85,
   "metadata": {},
   "outputs": [
    {
     "data": {
      "text/html": [
       "<div>\n",
       "<table border=\"1\" class=\"dataframe\">\n",
       "  <thead>\n",
       "    <tr style=\"text-align: right;\">\n",
       "      <th></th>\n",
       "      <th>article</th>\n",
       "      <th>author</th>\n",
       "      <th>title</th>\n",
       "    </tr>\n",
       "  </thead>\n",
       "  <tbody>\n",
       "    <tr>\n",
       "      <th>0</th>\n",
       "      <td>Τώρα αρχίζει η μεγάλη μάχη! 'Η μήπως αισιοδοξο...</td>\n",
       "      <td>kanelli</td>\n",
       "      <td>Εργασία μάρκα Vs Κεφάλαιο μπάνκα</td>\n",
       "    </tr>\n",
       "  </tbody>\n",
       "</table>\n",
       "</div>"
      ],
      "text/plain": [
       "                                             article   author  \\\n",
       "0  Τώρα αρχίζει η μεγάλη μάχη! 'Η μήπως αισιοδοξο...  kanelli   \n",
       "\n",
       "                              title  \n",
       "0  Εργασία μάρκα Vs Κεφάλαιο μπάνκα  "
      ]
     },
     "execution_count": 85,
     "metadata": {},
     "output_type": "execute_result"
    }
   ],
   "source": [
    "rizo.head(1)"
   ]
  },
  {
   "cell_type": "code",
   "execution_count": 86,
   "metadata": {},
   "outputs": [
    {
     "data": {
      "text/html": [
       "<div>\n",
       "<table border=\"1\" class=\"dataframe\">\n",
       "  <thead>\n",
       "    <tr style=\"text-align: right;\">\n",
       "      <th></th>\n",
       "      <th>article</th>\n",
       "      <th>author</th>\n",
       "      <th>title</th>\n",
       "    </tr>\n",
       "  </thead>\n",
       "  <tbody>\n",
       "    <tr>\n",
       "      <th>0</th>\n",
       "      <td>Οπως επισημαίνει ο οίκος αξιολόγησης, η χώρα έ...</td>\n",
       "      <td>gelantalis</td>\n",
       "      <td>Ενα μαξιλάρι γεμάτο αγκάθια για τον κ. Σαμαρά</td>\n",
       "    </tr>\n",
       "  </tbody>\n",
       "</table>\n",
       "</div>"
      ],
      "text/plain": [
       "                                             article      author  \\\n",
       "0  Οπως επισημαίνει ο οίκος αξιολόγησης, η χώρα έ...  gelantalis   \n",
       "\n",
       "                                           title  \n",
       "0  Ενα μαξιλάρι γεμάτο αγκάθια για τον κ. Σαμαρά  "
      ]
     },
     "execution_count": 86,
     "metadata": {},
     "output_type": "execute_result"
    }
   ],
   "source": [
    "elef.head(1)"
   ]
  },
  {
   "cell_type": "markdown",
   "metadata": {},
   "source": [
    "category is not needed"
   ]
  },
  {
   "cell_type": "code",
   "execution_count": 83,
   "metadata": {
    "collapsed": true
   },
   "outputs": [],
   "source": [
    "kath.drop(['category'], axis=1, inplace=True)\n",
    "rizo.drop(['category'], axis=1, inplace=True)\n",
    "elef.drop(['category'], axis=1, inplace=True)"
   ]
  },
  {
   "cell_type": "code",
   "execution_count": 91,
   "metadata": {
    "collapsed": true
   },
   "outputs": [
    {
     "data": {
      "text/plain": [
       "'Το 1844 ο Κωνσταντίνος Ιωνίδης προσέφερε στον Δήμο Πειραιά το σημαντικό για την εποχή ποσό των 30.000 δραχμών για την ανέγερση Σχολείου Ελληνικού και Αλληλοδιδακτικού, της Ιωνιδείου Σχολής στον Πειραιά. Σχεδόν 170 χρόνια αργότερα, ο Δήμος Πειραιά ζητεί την κινητή και ακίνητη περιουσία του σχολείου, παρά την κάθετη άρνηση των απογόνων του Κ. Ιωνίδη, των αποφοίτων και των γονέων μαθητών της Σχολής. Ολοι φοβούνται μήπως καταλήξει το σχολείο «περιπλανώμενο» να αναζητεί μισθωμένη στέγη. Αλλωστε, η περιπέτεια που είχε η Ράλλειος Σχολή, επίσης στον Πειραιά, διδάσκει πικρά. Βέβαια, ο αντίλογος λέει ότι πρέπει να τηρούνται οι νόμοι χωρίς εξαιρέσεις για όλα τα δημόσια σχολεία (όπως είναι η Ιωνίδειος). Ουσιαστικά το κρίσιμο ζήτημα που αναδεικνύεται από τη διαμάχη είναι η διαχείριση της περιουσίας της Σχολής και ποιος (ο δήμος ή η επιτροπή του σχολείου) θα την ασκήσει καλύτερα προς όφελος του σχολείου.\\nΕιδικότερα, τρία χρόνια κράτησαν οι εργασίες κατασκευής και το 1847 ιδρύθηκε η Ιωνίδειος Σχολή. Το 1993, για να καλυφθούν οι εκπαιδευτικές ανάγκες και η υψηλή ζήτηση από μαθητές, κατεδαφίστηκε το αρχικό κτίριο και χτίστηκε νέο στην ίδια θέση, στην πλατεία Κοραή. Η Σχολική Εφορία, για να διασφαλίσει την οικονομική ανεξαρτησία του σχολείου, κατασκεύασε στο ισόγειο καταστήματα, τα ενοίκια των οποίων συμβάλλουν στο αποθεματικό του.\\nΠλέον, ο νόμος 3852/2010, γνωστός ως «Καλλικράτης» για την Αυτοδιοίκηση, έδωσε το δικαίωμα στη σημερινή δημοτική αρχή να οικειοποιηθεί την κινητή και ακίνητη περιουσία του σχολείου. «Η Ιωνίδειος είναι δωρεά, λειτουργούσε με δικούς της πόρους και χωρίς κρατική επιχορήγηση. Κανένας φορέας, που δεν εξασφαλίζει και δεν εγγυάται την αυτοτέλεια της ευεργεσίας, δεν πρέπει και δεν μπορεί να πάρει την περιουσία της», ανέφερε στην «Κ» ο κ. Γεώργιος Τσάτσος, απόγονος του Κ. Ιωνίδη, ο οποίος εκπροσωπεί στη διαμάχη (και δικαστική) και τους απογόνους του δωρητή. «Προσπαθούμε να επαναφέρουμε την περιουσία στο καθεστώς διαχείρισης του υποτελούς ιδρύματος, με δική του σχολική επιτροπή, όπως λειτουργούσε ώς τώρα, σύμφωνα με το πνεύμα και τους όρους της διαθήκης του δωρητή και εθνικού ευεργέτη», προσθέτει ο πρόεδρος του Δ.Σ. του Συλλόγου Γονέων και Κηδεμόνων Μαθητών Λυκείου Ιωνιδείου κ. Ιωάννης Μόσχος. Και συμπληρώνει: «Λόγω και της εξαιρετικής θέσης του σχολείου στο κέντρο του Πειραιά έγιναν -το 1968 και το 1970- προσπάθειες οικειοποίησης της περιουσίας του από τον δήμο, χωρίς αποτέλεσμα. Ανάλογες προσπάθειες έγιναν ταυτόχρονα και για το άλλο ιστορικό σχολείο του Πειραιά, τη Ράλλειο, την περιουσία της οποίας κατάφεραν να προσεταιριστούν, με αποτέλεσμα σήμερα το σχολείο να λειτουργεί σε ενοικιαζόμενα κτίρια».\\nΑπό την πλευρά του, ο αρμόδιος για θέματα παιδείας στον Δήμο Πειραιά κ. Κωνσταντίνος Παράσχος, μιλώντας στην «Κ», αναφέρθηκε στην ανάγκη να τηρηθεί ο νόμος 3852/2010 όπως συμβαίνει με την περιουσία όλων των σχολείων. «Ο σεβασμός στην ιστορία και την παράδοση του σχολείου είναι δεδομένος. Δεν υπάρχει περίπτωση να αλλοιωθεί ο χαρακτήρας του», τόνισε. Οσο για τον κίνδυνο να επαναληφθεί η περιπέτεια της περιόδου 1968-1970, ο κ. Παράσχος εστιάζει στην τεράστια διαφορά (ως προς τους πολιτικούς και δημοκρατικούς θεσμούς) εκείνης της περιόδου με σήμερα.\\nΔιαχείριση εσόδων\\nΑπό την άλλη, όπως εξήγησε ο κ. Παράσχος, διενεργείται έλεγχος για τη διαχείριση των εσόδων του σχολείου την περίοδο 2004-2012. Ηδη, σύμφωνα με τον ίδιο, «η έκθεση του υπουργείου Οικονομικών για την περίοδο 2004-2006 έχει αποκαλύψει «ευάλωτα» σημεία, όπως αναθέσεις έργων χωρίς διαγωνισμό». Βέβαια, ο φόβος της πλευράς του σχολείου είναι μήπως, εν μέσω δημοσιονομικής λιτότητας και χρεών της Τοπικής Αυτοδιοίκησης, η δημοτική αρχή Πειραιά αξιοποιήσει τα έσοδα και την περιουσία του σχολείου για δικές της υποχρεώσεις, άσχετες με το σχολείο. Ποιος μπορεί να διασκεδάσει τις ανησυχίες τους;'"
      ]
     },
     "execution_count": 91,
     "metadata": {},
     "output_type": "execute_result"
    }
   ],
   "source": [
    "kath['article'][0]"
   ]
  },
  {
   "cell_type": "code",
   "execution_count": 95,
   "metadata": {
    "collapsed": true
   },
   "outputs": [],
   "source": [
    "kath.drop(['title'], axis=1, inplace=True)\n",
    "rizo.drop(['title'], axis=1, inplace=True)\n",
    "elef.drop(['title'], axis=1, inplace=True)"
   ]
  },
  {
   "cell_type": "code",
   "execution_count": null,
   "metadata": {
    "collapsed": true
   },
   "outputs": [],
   "source": []
  }
 ],
 "metadata": {
  "kernelspec": {
   "display_name": "Python 3",
   "language": "python",
   "name": "python3"
  },
  "language_info": {
   "codemirror_mode": {
    "name": "ipython",
    "version": 3
   },
   "file_extension": ".py",
   "mimetype": "text/x-python",
   "name": "python",
   "nbconvert_exporter": "python",
   "pygments_lexer": "ipython3",
   "version": "3.6.0"
  }
 },
 "nbformat": 4,
 "nbformat_minor": 2
}
